{
 "cells": [
  {
   "cell_type": "code",
   "execution_count": 1,
   "metadata": {
    "collapsed": true
   },
   "outputs": [],
   "source": [
    "%load_ext autoreload\n",
    "%autoreload 2"
   ]
  },
  {
   "cell_type": "markdown",
   "metadata": {},
   "source": [
    "# Question answering demo"
   ]
  },
  {
   "cell_type": "markdown",
   "metadata": {},
   "source": [
    "### Loading the data"
   ]
  },
  {
   "cell_type": "code",
   "execution_count": 2,
   "metadata": {
    "collapsed": false
   },
   "outputs": [],
   "source": [
    "from tf_nlp.data  import qa_qc\n",
    "from tf_nlp.utils import validation_split, find_common_examples"
   ]
  },
  {
   "cell_type": "code",
   "execution_count": 3,
   "metadata": {
    "collapsed": false
   },
   "outputs": [
    {
     "name": "stdout",
     "output_type": "stream",
     "text": [
      "Train+Validate set size:  5452\n",
      "Test  set size:  500\n",
      "Example piece of data QaQcDatum(question=('How', 'did', 'serfdom', 'develop', 'in', 'and', 'then', 'leave', 'Russia', '?'), main_cat='DESC', sub_cat='manner')\n",
      "Intriguing properties: \n",
      "       a) quite a few duplicates detected:  70\n",
      "       b) Number of examples shared between train and test:  10\n",
      "          e.g:  QaQcDatum(question=('What', 'is', 'viscosity', '?'), main_cat='DESC', sub_cat='def')\n"
     ]
    }
   ],
   "source": [
    "train_and_validate, test = qa_qc(\"data/input4.txt\", \"data/test.txt\")\n",
    "\n",
    "print(\"Train+Validate set size: \", len(train_and_validate))\n",
    "print(\"Test  set size: \", len(test))\n",
    "print(\"Example piece of data\", train_and_validate[0])\n",
    "print(\"Intriguing properties: \",)\n",
    "print(\"       a) quite a few duplicates detected: \", len(train_and_validate) - len(set(train_and_validate)), )\n",
    "common = list(find_common_examples(train_and_validate, test))\n",
    "print(\"       b) Number of examples shared between train and test: \", len(common))\n",
    "print(\"          e.g: \", common[0])"
   ]
  },
  {
   "cell_type": "code",
   "execution_count": 4,
   "metadata": {
    "collapsed": false
   },
   "outputs": [],
   "source": [
    "# deduplication and validation split\n",
    "train_and_validate = list(set(train_and_validate))\n",
    "train, validate = validation_split(train_and_validate, 0.1)"
   ]
  },
  {
   "cell_type": "markdown",
   "metadata": {
    "collapsed": false
   },
   "source": [
    "##### Building the Vocab"
   ]
  },
  {
   "cell_type": "code",
   "execution_count": 5,
   "metadata": {
    "collapsed": false
   },
   "outputs": [],
   "source": [
    "from tf_nlp       import Vocab \n",
    "from tf_nlp.utils import flatten"
   ]
  },
  {
   "cell_type": "code",
   "execution_count": 6,
   "metadata": {
    "collapsed": true
   },
   "outputs": [],
   "source": [
    "def extract_questions(dataset):\n",
    "    return [example.question for example in dataset]"
   ]
  },
  {
   "cell_type": "code",
   "execution_count": 7,
   "metadata": {
    "collapsed": false
   },
   "outputs": [
    {
     "name": "stdout",
     "output_type": "stream",
     "text": [
      "Percentage of unknown words in train:  0.0\n",
      "Percentage of unknown words in validate:  11.575221238938054\n"
     ]
    }
   ],
   "source": [
    "naive_vocab = Vocab(extract_questions(train))\n",
    "print(\"Percentage of unknown words in train: \", 100.0 * naive_vocab.fraction_unknown(extract_questions(train)))\n",
    "print(\"Percentage of unknown words in validate: \", 100.0 * naive_vocab.fraction_unknown(extract_questions(validate)))"
   ]
  },
  {
   "cell_type": "code",
   "execution_count": 8,
   "metadata": {
    "collapsed": false
   },
   "outputs": [
    {
     "name": "stdout",
     "output_type": "stream",
     "text": [
      "Percentage of unknown words in train:  1.7854244440837528\n",
      "Percentage of unknown words in validate:  12.283185840707965\n"
     ]
    }
   ],
   "source": [
    "popular_words = Vocab.keep_n_most_frequent(flatten(extract_questions(train)), round(0.9 * len(naive_vocab)))\n",
    "vocab = Vocab(popular_words)\n",
    "print(\"Percentage of unknown words in train: \", 100.0 * vocab.fraction_unknown(extract_questions(train)))\n",
    "print(\"Percentage of unknown words in validate: \", 100.0 * vocab.fraction_unknown(extract_questions(validate)))"
   ]
  },
  {
   "cell_type": "markdown",
   "metadata": {},
   "source": [
    "### Building the model\n",
    "\n",
    "Bidirection stacked GRU! "
   ]
  },
  {
   "cell_type": "code",
   "execution_count": 9,
   "metadata": {
    "collapsed": false
   },
   "outputs": [],
   "source": [
    "import numpy as np\n",
    "import random\n",
    "import tensorflow as tf\n",
    "\n",
    "from tf_nlp.glove import load_glove\n",
    "from tf_nlp.models import Linear, StackedGRU, Embedding, BidirectionalSentenceParser, Classifier\n",
    "from tf_nlp.utils  import get_pb, make_batches"
   ]
  },
  {
   "cell_type": "code",
   "execution_count": 28,
   "metadata": {
    "collapsed": true
   },
   "outputs": [],
   "source": [
    "if 'session' in globals():\n",
    "    session.close()\n",
    "tf.reset_default_graph()\n",
    "session = tf.InteractiveSession()"
   ]
  },
  {
   "cell_type": "code",
   "execution_count": 29,
   "metadata": {
    "collapsed": false
   },
   "outputs": [],
   "source": [
    "MAIN_CATEGORIES = list(set(ex.main_cat for ex in train_and_validate))\n",
    "SUB_CATEGORIES  = list(set(ex.sub_cat  for ex in train_and_validate))\n",
    "\n",
    "HIDDEN_SIZES    = [40, 40]\n",
    "BATCH_SIZE     = 5\n",
    "USE_GLOVE = False\n",
    "if not USE_GLOVE:\n",
    "    EMBEDDING_SIZE = 20\n",
    "    VOCAB_SIZE = len(vocab)\n",
    "else:\n",
    "    vocab, embedding = load_glove(\"/home/sidor/projects/dali/Dali/data/glove/glove.6B.300d.txt\", max_words=100000)\n",
    "    EMBEDDING_SIZE = embedding.embedding_size \n",
    "    VOCAB_SIZE     = embedding.vocab_size"
   ]
  },
  {
   "cell_type": "code",
   "execution_count": 30,
   "metadata": {
    "collapsed": false
   },
   "outputs": [],
   "source": [
    "# Define model componnents\n",
    "if not USE_GLOVE:\n",
    "    embedding         = Embedding(VOCAB_SIZE, EMBEDDING_SIZE)\n",
    "gru_cell_forward  = StackedGRU([EMBEDDING_SIZE,], HIDDEN_SIZES, final_nonlinearity=tf.nn.relu6, scope=\"gru_forward\")\n",
    "gru_cell_backward = StackedGRU([EMBEDDING_SIZE,], HIDDEN_SIZES, final_nonlinearity=tf.nn.relu6, scope=\"gru_backward\")\n",
    "sentence_parser   = BidirectionalSentenceParser(embedding, gru_cell_forward, gru_cell_backward)\n",
    "classifier        = Classifier(2 * sum(HIDDEN_SIZES), len(MAIN_CATEGORIES))\n",
    "\n",
    "# Define inputs\n",
    "input_idxes    = tf.placeholder(tf.int32,   shape=(None, None,),        name=\"input_idxes\")    # TIMESTEP  x BATCHSIZE\n",
    "output_onehots = tf.placeholder(tf.float32, shape=(None, len(MAIN_CATEGORIES)), name=\"output_onehots\") # BATCHSIZE x NUM_CLASSES\n",
    "\n",
    "# execute the model\n",
    "sentence_hidden  = sentence_parser.final_hidden(input_idxes)\n",
    "error           = classifier.error(sentence_hidden, output_onehots)\n",
    "num_correct     = classifier.num_correct(sentence_hidden, output_onehots)\n",
    "\n",
    "# define optimizer\n",
    "optimizer = tf.train.AdamOptimizer(learning_rate=0.001)\n",
    "train_op  = optimizer.minimize(error)"
   ]
  },
  {
   "cell_type": "code",
   "execution_count": 31,
   "metadata": {
    "collapsed": true
   },
   "outputs": [],
   "source": [
    "session.run(tf.initialize_all_variables())"
   ]
  },
  {
   "cell_type": "markdown",
   "metadata": {},
   "source": [
    "### Accuracy"
   ]
  },
  {
   "cell_type": "code",
   "execution_count": 32,
   "metadata": {
    "collapsed": false
   },
   "outputs": [],
   "source": [
    "def accuracy(examples, batch_size, dataset_name=\"dataset\"):\n",
    "    acc_num_correct, acc_num_total = 0, 0\n",
    "    progress = get_pb(\"Accuracy on %s: \" % (dataset_name,))\n",
    "    batches = make_batches(examples, batch_size, sorting_key=lambda x:len(x.question))\n",
    "    \n",
    "    for batch in progress(batches):\n",
    "        X, Ymain, _ = batch_examples(batch)\n",
    "        batch_correct = session.run(num_correct, { input_idxes: X, output_onehots: Ymain})\n",
    "        acc_num_correct += batch_correct\n",
    "        acc_num_total   += len(batch)\n",
    "    return acc_num_correct / acc_num_total"
   ]
  },
  {
   "cell_type": "markdown",
   "metadata": {},
   "source": [
    "### Training"
   ]
  },
  {
   "cell_type": "code",
   "execution_count": 10,
   "metadata": {
    "collapsed": true
   },
   "outputs": [],
   "source": [
    "def batch_examples(examples):\n",
    "    num_examples  = len(examples)\n",
    "    longest_question = max(len(example.question) for example in examples)\n",
    "    X     = np.empty((longest_question + 1, num_examples        ), dtype=np.int32)\n",
    "    Ymain = np.zeros((num_examples,         len(MAIN_CATEGORIES)), dtype=np.float32)\n",
    "    Ysub  = np.zeros((num_examples,         len(SUB_CATEGORIES) ), dtype=np.float32)\n",
    "    for i, example in enumerate(examples):\n",
    "        question, main_cat, sub_cat = example\n",
    "        X[:, i] = vocab.encode(example.question, pad_eos=longest_question + 1)\n",
    "        Ymain[i, MAIN_CATEGORIES.index(example.main_cat)] = 1.0\n",
    "        Ysub [i, SUB_CATEGORIES.index(sub_cat)]  = 1.0\n",
    "    return X, Ymain, Ysub"
   ]
  },
  {
   "cell_type": "code",
   "execution_count": 33,
   "metadata": {
    "collapsed": false
   },
   "outputs": [
    {
     "name": "stderr",
     "output_type": "stream",
     "text": [
      "Epoch 0: Time: 0:01:19 |######################################################| 100%\n",
      "Accuracy on train: Time: 0:00:01 |############################################| 100%\n",
      "Accuracy on validate: Time: 0:00:00 |#########################################| 100%\n",
      "Epoch 1: Time: 0:01:18 |######################################################| 100%\n",
      "Accuracy on train: Time: 0:00:01 |############################################| 100%\n",
      "Accuracy on validate: ETA:  0:00:00 |###########################              |  66%"
     ]
    },
    {
     "name": "stdout",
     "output_type": "stream",
     "text": [
      "Epoch 0: accuracy on train: 80.7 %, validate: 73.2 %\n",
      "Epoch 1: accuracy on train: 94.6 %, validate: 78.8 %"
     ]
    },
    {
     "name": "stderr",
     "output_type": "stream",
     "text": [
      "Accuracy on validate: Time: 0:00:00 |#########################################| 100%\n",
      "Epoch 2: Time: 0:01:24 |######################################################| 100%\n",
      "Accuracy on train: Time: 0:00:02 |############################################| 100%\n",
      "Accuracy on validate: ETA:  0:00:00 |##################################       |  83%"
     ]
    },
    {
     "name": "stdout",
     "output_type": "stream",
     "text": [
      "\n",
      "Epoch 2: accuracy on train: 96.5 %, validate: 81.6 %"
     ]
    },
    {
     "name": "stderr",
     "output_type": "stream",
     "text": [
      "Accuracy on validate: Time: 0:00:00 |#########################################| 100%\n",
      "Epoch 3: Time: 0:01:41 |######################################################| 100%\n",
      "Accuracy on train: Time: 0:00:02 |############################################| 100%\n",
      "Accuracy on validate: ETA:  0:00:00 |##################################       |  83%"
     ]
    },
    {
     "name": "stdout",
     "output_type": "stream",
     "text": [
      "\n",
      "Epoch 3: accuracy on train: 99.0 %, validate: 83.6 %"
     ]
    },
    {
     "name": "stderr",
     "output_type": "stream",
     "text": [
      "Accuracy on validate: Time: 0:00:00 |#########################################| 100%\n",
      "Epoch 4: Time: 0:01:47 |######################################################| 100%\n",
      "Accuracy on train: Time: 0:00:02 |############################################| 100%\n",
      "Accuracy on validate: ETA:  0:00:00 |###########################              |  66%"
     ]
    },
    {
     "name": "stdout",
     "output_type": "stream",
     "text": [
      "\n",
      "Epoch 4: accuracy on train: 99.5 %, validate: 82.0 %"
     ]
    },
    {
     "name": "stderr",
     "output_type": "stream",
     "text": [
      "Accuracy on validate: Time: 0:00:00 |#########################################| 100%\n",
      "Epoch 5: Time: 0:01:38 |######################################################| 100%\n",
      "Accuracy on train: Time: 0:00:02 |############################################| 100%\n",
      "Accuracy on validate: Time: 0:00:00 |#########################################| 100%"
     ]
    },
    {
     "name": "stdout",
     "output_type": "stream",
     "text": [
      "\n",
      "Epoch 5: accuracy on train: 96.2 %, validate: 73.6 %"
     ]
    },
    {
     "name": "stderr",
     "output_type": "stream",
     "text": [
      "\n",
      "Epoch 6: Time: 0:01:37 |######################################################| 100%\n",
      "Accuracy on train: Time: 0:00:02 |############################################| 100%\n",
      "Accuracy on validate: Time: 0:00:00 |#########################################| 100%"
     ]
    },
    {
     "name": "stdout",
     "output_type": "stream",
     "text": [
      "\n",
      "Epoch 6: accuracy on train: 99.8 %, validate: 83.3 %"
     ]
    },
    {
     "name": "stderr",
     "output_type": "stream",
     "text": [
      "\n",
      "Epoch 7: Time: 0:01:39 |######################################################| 100%\n",
      "Accuracy on train: Time: 0:00:02 |############################################| 100%\n",
      "Accuracy on validate: Time: 0:00:00 |#########################################| 100%"
     ]
    },
    {
     "name": "stdout",
     "output_type": "stream",
     "text": [
      "\n",
      "Epoch 7: accuracy on train: 98.3 %, validate: 78.4 %"
     ]
    },
    {
     "name": "stderr",
     "output_type": "stream",
     "text": [
      "\n",
      "Epoch 8: Time: 0:02:02 |######################################################| 100%\n",
      "Accuracy on train: Time: 0:00:02 |############################################| 100%\n",
      "Accuracy on validate: ETA:  0:00:00 |###########################              |  66%"
     ]
    },
    {
     "name": "stdout",
     "output_type": "stream",
     "text": [
      "\n",
      "Epoch 8: accuracy on train: 99.9 %, validate: 82.7 %"
     ]
    },
    {
     "name": "stderr",
     "output_type": "stream",
     "text": [
      "Accuracy on validate: Time: 0:00:00 |#########################################| 100%\n",
      "Epoch 9: Time: 0:01:49 |######################################################| 100%\n",
      "Accuracy on train: Time: 0:00:02 |############################################| 100%\n",
      "Accuracy on validate: ETA:  0:00:00 |###########################              |  66%"
     ]
    },
    {
     "name": "stdout",
     "output_type": "stream",
     "text": [
      "\n",
      "Epoch 9: accuracy on train: 99.9 %, validate: 82.3 %\n"
     ]
    },
    {
     "name": "stderr",
     "output_type": "stream",
     "text": [
      "\r",
      "Accuracy on validate: ETA:  0:00:00 |##################################       |  83%\r",
      "Accuracy on validate: Time: 0:00:00 |#########################################| 100%\n"
     ]
    }
   ],
   "source": [
    "for epoch in range(10):\n",
    "    batches = make_batches(train, BATCH_SIZE, sorting_key=lambda x:len(x.question))\n",
    "    progress = get_pb(\"Epoch %d: \" % (epoch,))\n",
    "    for batch in progress(batches):\n",
    "        X, Ymain, _ = batch_examples(batch)\n",
    "        session.run(train_op, { input_idxes: X, output_onehots: Ymain})\n",
    "    acc_train    = 100.0 * accuracy(train,    100, \"train\")\n",
    "    acc_validate = 100.0 * accuracy(validate, 100, \"validate\")\n",
    "    print(\"Epoch %d: accuracy on train: %.1f %%, validate: %.1f %%\" % (epoch, acc_train, acc_validate))"
   ]
  },
  {
   "cell_type": "code",
   "execution_count": 35,
   "metadata": {
    "collapsed": false
   },
   "outputs": [
    {
     "name": "stderr",
     "output_type": "stream",
     "text": [
      "Accuracy on dataset: Time: 0:00:00 |##########################################| 100%\n"
     ]
    },
    {
     "data": {
      "text/plain": [
       "0.86399999999999999"
      ]
     },
     "execution_count": 35,
     "metadata": {},
     "output_type": "execute_result"
    }
   ],
   "source": [
    "accuracy(test, 100)"
   ]
  },
  {
   "cell_type": "code",
   "execution_count": null,
   "metadata": {
    "collapsed": true
   },
   "outputs": [],
   "source": []
  }
 ],
 "metadata": {
  "kernelspec": {
   "display_name": "Python 3",
   "language": "python",
   "name": "python3"
  },
  "language_info": {
   "codemirror_mode": {
    "name": "ipython",
    "version": 3
   },
   "file_extension": ".py",
   "mimetype": "text/x-python",
   "name": "python",
   "nbconvert_exporter": "python",
   "pygments_lexer": "ipython3",
   "version": "3.4.1"
  }
 },
 "nbformat": 4,
 "nbformat_minor": 0
}
